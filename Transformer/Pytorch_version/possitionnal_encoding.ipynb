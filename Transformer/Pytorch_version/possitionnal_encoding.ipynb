{
 "cells": [
  {
   "cell_type": "code",
   "execution_count": 1,
   "metadata": {},
   "outputs": [],
   "source": [
    "from torch import nn\n",
    "import torch \n",
    "import math"
   ]
  },
  {
   "cell_type": "code",
   "execution_count": null,
   "metadata": {},
   "outputs": [],
   "source": [
    "class PositionalEncoding(nn.Module):\n",
    "    def __init__(self, dim, dropout, max_len = 5000):\n",
    "        super(PositionalEncoding, self).__init__()\n",
    "\n",
    "        if dim % 2 != 0 :\n",
    "            raise ValueError(\"Cannot use sin/cos positional encoding with \"\n",
    "                             \"odd dim (got dim={:d})\".format(dim))\n",
    "        \"\"\"\n",
    "        构建位置编码pe\n",
    "        pe公式为：\n",
    "        PE(pos,2i/2i+1) = sin/cos(pos/10000^{2i/d_{model}})\n",
    "        \"\"\"\n",
    "        pe = torch.zeros(max_len, dim) # max_len 是解码器生成句子的最长长度\n",
    "        position = torch.arange(0, max_len).unsqueeze(1)\n",
    "        div_term = torch.exp((torch.arange(0, dim, 2, dtype = torch.float) *\n",
    "                              -(math.log(10000.0) / dim))) \n",
    "        pe[:, 0::2] = torch.sin(position.float() * div_term)\n",
    "        pe[:, 1::2] = torch.cos(position.float() * div_term)\n",
    "        # 扩展batchsize维度  这个维度的 size 是 1\n",
    "        pe = pe.unsqueeze(1)\n",
    "        self.drop_out = nn.Dropout(p= dropout)\n",
    "        self.dim = dim\n",
    "    \n",
    "    def forward(self, emb, step = None):\n",
    "        # 保持嵌入张量数值的稳定性。当位置编码与嵌入值相加时，二者的数值范围相近，防止位置编码对嵌入值造成过大的干扰。\n",
    "        # emb 的形状通常是 [seq_len, batch_size, dim]\n",
    "        emb = emb * math.sqrt(self)\n",
    "        if step == None:\n",
    "            # pe 取出来的 形状为 [seq_len, 1, dim] 广播机制 扩展 [seq_len, batch_size, dim] 匹配\n",
    "            emb = emb + self.pe[:emb.size(0)]\n",
    "        else:\n",
    "            emb = emb + self.pe[step]\n",
    "        emb = self.drop_out(emb)\n",
    "        return emb\n",
    "                                "
   ]
  }
 ],
 "metadata": {
  "kernelspec": {
   "display_name": "gait",
   "language": "python",
   "name": "python3"
  },
  "language_info": {
   "codemirror_mode": {
    "name": "ipython",
    "version": 3
   },
   "file_extension": ".py",
   "mimetype": "text/x-python",
   "name": "python",
   "nbconvert_exporter": "python",
   "pygments_lexer": "ipython3",
   "version": "3.10.15"
  }
 },
 "nbformat": 4,
 "nbformat_minor": 2
}
